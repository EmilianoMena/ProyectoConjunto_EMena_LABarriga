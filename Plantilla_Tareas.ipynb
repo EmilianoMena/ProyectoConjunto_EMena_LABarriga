{
 "cells": [
  {
   "cell_type": "markdown",
   "metadata": {},
   "source": [
    "<img style=\"float: left; margin: 30px 15px 15px 15px;\" src=\"https://pngimage.net/wp-content/uploads/2018/06/logo-iteso-png-5.png\" width=\"300\" height=\"500\" /> \n",
    "    \n",
    "    \n",
    "### <font color='navy'> Simulación de procesos financieros. \n",
    "\n",
    "**Nombres:** Luis Antonio Barriga Adame, Emiliano Mena González.\n",
    "\n",
    "**Fecha:** 31 de enero del 2023.\n",
    "\n",
    "**Expediente** : 730512 y 728407.\n",
    "**Profesor:** Oscar David Jaramillo Zuluaga.\n",
    "    \n",
    "**Link Github**: https://github.com/EmilianoMena/ProyectoConjunto_EMena_LABarriga\n",
    "\n",
    "# Tarea 1: Clase Simulación de Procesos Financieros"
   ]
  },
  {
   "cell_type": "markdown",
   "metadata": {},
   "source": [
    "## Enunciado de tarea (Transcibirlo)\n",
    "> Descripción de la tarea: en esta tarea se puede observar como podemos darle formato a diferentes tipos de documentos, y aprenderemos como utilizar el formato markdown para dar el formato anteriormente mencionado."
   ]
  },
  {
   "cell_type": "markdown",
   "metadata": {},
   "source": [
    "### Ejercicio 1: (enunciado) Transcribirlo"
   ]
  },
  {
   "cell_type": "markdown",
   "metadata": {},
   "source": [
    "Código de solución estudiante 1"
   ]
  },
  {
   "cell_type": "code",
   "execution_count": null,
   "metadata": {},
   "outputs": [],
   "source": [
    "# Código de solución estudiante 1"
   ]
  },
  {
   "cell_type": "markdown",
   "metadata": {},
   "source": [
    "|$i$|$x$|$f(x)$|\n",
    "|-|:-:|:----:|\n",
    "|0|-1|0.3678|\n",
    "|<font color=red>1</font>|<font color=red>-0.5</font>|<font color=red>0.7788</font>|\n",
    "|<font color=blue>2</font>|<font color=blue>0</font>|<font color=blue>1</font>|\n",
    "|<font color=red>3</font>|<font color=red>-0.5</font>|<font color=red>0.7788</font>|\n",
    "|4|1|0.3678|\n",
    "\n",
    "<center>Cuadro 1: Tabla de valores de $f(x)$</center>\n",
    "\n",
    "\\begin{align}\n",
    "\\int_{-1}^{1} e^{-x^{2}} dx &\\approx \\frac {0,5}{3} [f(-1)+f(1)+4 \\color{red}{(f(-0.5)+f(0.5)})+2 \\color{blue}{f(0)}] \\\\\n",
    "    &\\approx \\frac {0,5}{3} [0,3678+0,3678+4(\\color{red}{0.7788-0.7788})+2 \\cdot \\color{blue}{1}] \\approx 1,4943\n",
    "\\end{align}\n",
    "\n",
    "<div style=\"text-align: justify\">&nbsp;&nbsp;&nbsp;A modo de verificación se calculará por software, el valor del área para $n = 100$, un valor mucho<br> más elevado al que se utilizó anteriormente. Si lo calculado previamente es correcto, se esperaría que<br> sea próximo el valor presentado a continuación para ser una buena aproximación</div>\n",
    "\n",
    "\\begin{align}\n",
    "\\int_{-1}^{1} e^{-x^{2}} dx\\approx 1,4943\n",
    "\\end{align}"
   ]
  },
  {
   "cell_type": "code",
   "execution_count": 1,
   "metadata": {},
   "outputs": [
    {
     "name": "stdout",
     "output_type": "stream",
     "text": [
      "[0, 1, 1, 2, 3, 5, 8, 13, 21, 34, 55, 89, 144, 233, 377, 610, 987, 1597, 2584, 4181, 6765, 10946, 17711, 28657, 46368, 75025, 121393, 196418, 317811, 514229, 832040, 1346269, 2178309, 3524578, 5702887, 9227465, 14930352, 24157817, 39088169, 63245986, 102334155, 165580141, 267914296, 433494437, 701408733, 1134903170, 1836311903, 2971215073, 4807526976, 7778742049, 12586269025, 20365011074, 32951280099, 53316291173, 86267571272, 139583862445, 225851433717, 365435296162, 591286729879, 956722026041, 1548008755920, 2504730781961, 4052739537881, 6557470319842, 10610209857723, 17167680177565, 27777890035288, 44945570212853, 72723460248141, 117669030460994, 190392490709135, 308061521170129, 498454011879264, 806515533049393, 1304969544928657, 2111485077978050, 3416454622906707, 5527939700884757, 8944394323791464, 14472334024676221, 23416728348467685, 37889062373143906, 61305790721611591, 99194853094755497, 160500643816367088, 259695496911122585, 420196140727489673, 679891637638612258, 1100087778366101931, 1779979416004714189, 2880067194370816120, 4660046610375530309, 7540113804746346429, 12200160415121876738, 19740274219868223167, 31940434634990099905, 51680708854858323072, 83621143489848422977, 135301852344706746049, 218922995834555169026, 354224848179261915075, 573147844013817084101]\n"
     ]
    }
   ],
   "source": [
    "# Serie Fibonacci\n",
    "l = [0, 1]\n",
    "n = 100\n",
    "for i in range (n):\n",
    "    c = l[-2] + l[-1]\n",
    "    l.append(c)\n",
    "print(l)"
   ]
  },
  {
   "cell_type": "markdown",
   "metadata": {},
   "source": [
    "Código de solución estudiante 2"
   ]
  },
  {
   "cell_type": "markdown",
   "metadata": {},
   "source": [
    "# Código de solución estudiante 2\n",
    "\n",
    "\n",
    "|\ti        \t | 1   | 2   | 3   | 4   | 5 | 6 | 7  |\n",
    "|------------\t |-----|-----|-----|-----|---|---|----|\n",
    "| $$E_i(V)$$     | 12  | 10  | 24  | 12  | - | - | -  |\n",
    "| $$r_i(\\Omega)$$| 0.1 | 0.5 | 0.2 | 0.5 | - | - | -  |\n",
    "| $$R_i(\\Omega)$$| 25  | 40  | 16  | 20  | 9 | 4 | 20 |\n",
    "\n"
   ]
  },
  {
   "cell_type": "markdown",
   "metadata": {},
   "source": [
    "&nbsp;&nbsp;&nbsp;<font color=\"#00B2EE\">Kemna y Vorst (1990)</font> muestran que las opciones asiáticas con media geométrica continua se pueden valuar con el mismo enfoque de las opciones _plain vanilla_; solo se deben cambiar los parámetros de volatilidad $\\sigma$ por $\\sigma_a$, y el costo de acarreo $b$ por $b_A$.\n",
    " \n",
    "&nbsp;&nbsp;&nbsp; De acuerdo con Kemna y Vorst, las fórmulas para valuar una opción de compra y una opción de venta son:\n",
    "\n",
    "\\begin{equation} \\tag{3} \n",
    "\\begin{aligned} \n",
    "c \\approx& S_t e^{(b_A-r)(T-t)}\\phi(d_1)- Ke^{r(T-t)}\\phi(d_2),\\\\\n",
    "p \\approx& Ke^{-r(T-t)}\\phi(-d_2)-S_t e^{(b_A-r)(T-t)}\\phi(-d_1).\n",
    "\\end{aligned}\n",
    "\\end{equation}\n",
    "\n",
    "con $d_1$ y $d_2$ dados por:\n",
    "\n",
    "\\begin{equation} \\tag{4} \n",
    "\\begin{aligned}\n",
    "d1 &= \\frac{ln(S_t/K)+(b_A+1/2\\sigma^{2}_{a})(T-t)}{\\sigma\\sqrt{T-t}},\\\\\n",
    "d2 &= d1-\\sigma_a\\sqrt{T-t}\n",
    "\\end{aligned}\n",
    "\\end{equation}\n",
    "\n",
    "La función $\\phi(d)$ es la función de distribución acumuladad de $E\\sim N(0,1)$La volatilidad ajustada es igual a:\n",
    "\n",
    "$$\\sigma_a=\\frac{\\sigma}{\\sqrt{3}},$$\n",
    "\n",
    "mientras que el costo de acarreo ajustado es:\n",
    "\n",
    "$$b_A=\\frac{1}{2}\\left(v-\\frac{\\sigma^{2}}{6}\\right).$$\n",
    "\n"
   ]
  },
  {
   "cell_type": "code",
   "execution_count": 3,
   "metadata": {},
   "outputs": [
    {
     "name": "stdout",
     "output_type": "stream",
     "text": [
      "2\n",
      "3\n",
      "5\n",
      "7\n",
      "11\n",
      "13\n",
      "17\n",
      "19\n",
      "23\n",
      "29\n",
      "31\n",
      "37\n",
      "41\n",
      "43\n",
      "47\n",
      "53\n",
      "59\n",
      "61\n",
      "67\n",
      "71\n",
      "73\n",
      "79\n",
      "83\n",
      "89\n",
      "97\n"
     ]
    }
   ],
   "source": [
    "def primos(n):\n",
    "    if n <= 1:\n",
    "        return False\n",
    "    for i in range(2, n):\n",
    "        if n % i == 0:\n",
    "            return False\n",
    "    return True\n",
    "\n",
    "for num in range(0, 101):\n",
    "    if primos(num):\n",
    "        print(num)"
   ]
  },
  {
   "cell_type": "markdown",
   "metadata": {},
   "source": [
    "### Respuesta planteada en el ejercicio usando (markdown)\n",
    " La respuesta es ........."
   ]
  }
 ],
 "metadata": {
  "kernelspec": {
   "display_name": "Python 3 (ipykernel)",
   "language": "python",
   "name": "python3"
  },
  "language_info": {
   "codemirror_mode": {
    "name": "ipython",
    "version": 3
   },
   "file_extension": ".py",
   "mimetype": "text/x-python",
   "name": "python",
   "nbconvert_exporter": "python",
   "pygments_lexer": "ipython3",
   "version": "3.9.13"
  }
 },
 "nbformat": 4,
 "nbformat_minor": 2
}
