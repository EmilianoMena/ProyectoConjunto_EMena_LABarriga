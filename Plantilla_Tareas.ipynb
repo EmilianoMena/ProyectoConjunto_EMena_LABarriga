{
 "cells": [
  {
   "cell_type": "markdown",
   "metadata": {},
   "source": [
    "<img style=\"float: left; margin: 30px 15px 15px 15px;\" src=\"https://pngimage.net/wp-content/uploads/2018/06/logo-iteso-png-5.png\" width=\"300\" height=\"500\" /> \n",
    "    \n",
    "    \n",
    "### <font color='navy'> Simulación de procesos financieros. \n",
    "\n",
    "**Nombres:** Luis Antonio Barriga Adame, .\n",
    "\n",
    "**Fecha:** 31 de enero del 2023.\n",
    "\n",
    "**Expediente** : 730512 y .\n",
    "**Profesor:** Oscar David Jaramillo Zuluaga.\n",
    "    \n",
    "**Link Github**: Link con el enlace del repositorio del creador del proyecto\n",
    "\n",
    "# Tarea 1: Clase Simulación de Procesos Financieros"
   ]
  },
  {
   "cell_type": "markdown",
   "metadata": {},
   "source": [
    "## Enunciado de tarea (Transcibirlo)\n",
    "> Descripción de la tarea: en esta tarea se puede observar como podemos darle formato a diferentes tipos de documentos, y aprenderemos como utilizar el formato markdown para dar el formato anteriormente mencionado."
   ]
  },
  {
   "cell_type": "markdown",
   "metadata": {},
   "source": [
    "### Ejercicio 1: (enunciado) Transcribirlo"
   ]
  },
  {
   "cell_type": "markdown",
   "metadata": {},
   "source": [
    "Código de solución estudiante 1"
   ]
  },
  {
   "cell_type": "code",
   "execution_count": null,
   "metadata": {},
   "outputs": [],
   "source": [
    "# Código de solución estudiante 1\n",
    ".\n",
    ".\n",
    ".\n",
    ".\n"
   ]
  },
  {
   "cell_type": "markdown",
   "metadata": {},
   "source": [
    "Código de solución estudiante 2"
   ]
  },
  {
   "cell_type": "markdown",
   "metadata": {},
   "source": [
    "# Código de solución estudiante 2\n",
    "\n",
    "\n",
    "|\ti        \t | 1   | 2   | 3   | 4   | 5 | 6 | 7  |\n",
    "|------------\t |-----|-----|-----|-----|---|---|----|\n",
    "| $$E_i(V)$$     | 12  | 10  | 24  | 12  | - | - | -  |\n",
    "| $$r_i(\\Omega)$$| 0.1 | 0.5 | 0.2 | 0.5 | - | - | -  |\n",
    "| $$R_i(\\Omega)$$| 25  | 40  | 16  | 20  | 9 | 4 | 20 |\n",
    "\n"
   ]
  },
  {
   "cell_type": "markdown",
   "metadata": {},
   "source": [
    "&nbsp;&nbsp;&nbsp;<font color=\"#00B2EE\">Kemna y Vorst (1990)</font> muestran que las opciones asiáticas con media geométrica continua se pueden valuar con el mismo enfoque de las opciones _plain vanilla_; solo se deben cambiar los parámetros de volatilidad $\\sigma$ por $\\sigma_a$, y el costo de acarreo $b$ por $b_A$.\n",
    " \n",
    "&nbsp;&nbsp;&nbsp; De acuerdo con Kemna y Vorst, las fórmulas para valuar una opción de compra y una opción de venta son:\n",
    "\n",
    "\\begin{equation} \\tag{3} \n",
    "\\begin{aligned} \n",
    "c \\approx& S_t e^{(b_A-r)(T-t)}\\phi(d_1)- Ke^{r(T-t)}\\phi(d_2),\\\\\n",
    "p \\approx& Ke^{-r(T-t)}\\phi(-d_2)-S_t e^{(b_A-r)(T-t)}\\phi(-d_1).\n",
    "\\end{aligned}\n",
    "\\end{equation}\n",
    "\n",
    "con $d_1$ y $d_2$ dados por:\n",
    "\n",
    "\\begin{equation} \\tag{4} \n",
    "\\begin{aligned}\n",
    "d1 &= \\frac{ln(S_t/K)+(b_A+1/2\\sigma^{2}_{a})(T-t)}{\\sigma\\sqrt{T-t}},\\\\\n",
    "d2 &= d1-\\sigma_a\\sqrt{T-t}\n",
    "\\end{aligned}\n",
    "\\end{equation}\n",
    "\n",
    "La función $\\phi(d)$ es la función de distribución acumuladad de $E\\sim N(0,1)$La volatilidad ajustada es igual a:\n",
    "\n",
    "$$\\sigma_a=\\frac{\\sigma}{\\sqrt{3}},$$\n",
    "\n",
    "mientras que el costo de acarreo ajustado es:\n",
    "\n",
    "$$b_A=\\frac{1}{2}\\left(v-\\frac{\\sigma^{2}}{6}\\right).$$\n",
    "\n"
   ]
  },
  {
   "cell_type": "markdown",
   "metadata": {},
   "source": [
    "### Respuesta planteada en el ejercicio usando (markdown)\n",
    " La respuesta es ........."
   ]
  }
 ],
 "metadata": {
  "kernelspec": {
   "display_name": "Python 3",
   "language": "python",
   "name": "python3"
  },
  "language_info": {
   "codemirror_mode": {
    "name": "ipython",
    "version": 3
   },
   "file_extension": ".py",
   "mimetype": "text/x-python",
   "name": "python",
   "nbconvert_exporter": "python",
   "pygments_lexer": "ipython3",
   "version": "3.8.8"
  }
 },
 "nbformat": 4,
 "nbformat_minor": 2
}
